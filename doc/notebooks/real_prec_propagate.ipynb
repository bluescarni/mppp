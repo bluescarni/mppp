{
 "cells": [
  {
   "cell_type": "markdown",
   "id": "6bce5d94-dddb-41be-ad25-a65ffdd2262d",
   "metadata": {},
   "source": [
    "# Real precision propagation\n",
    "\n",
    "Let us begin, as usual, by loading the mp++ runtime and including a couple of headers:"
   ]
  },
  {
   "cell_type": "code",
   "execution_count": 1,
   "id": "4a5bfe9c-d884-4491-8f01-9a2c0322bea4",
   "metadata": {},
   "outputs": [],
   "source": [
    "#pragma cling add_include_path(\"$CONDA_PREFIX/include\")\n",
    "#pragma cling add_library_path(\"$CONDA_PREFIX/lib\")\n",
    "#pragma cling load(\"mp++\")\n",
    "\n",
    "#include <cstdint>\n",
    "\n",
    "#include <mp++/real.hpp>\n",
    "\n",
    "using real = mppp::real;"
   ]
  },
  {
   "cell_type": "markdown",
   "id": "f9628dd4-54ee-4eaf-8d49-de3f38acd8a7",
   "metadata": {},
   "source": [
    "An important aspect to understand when working with ``real`` objects is how precision propagates throughout mathematical computations. The basic idea, inspired by the way type promotion is commonly implemented in computer languages, is that when multiple ``real`` objects participate in a computation (e.g., as arguments to an $n$-ary function), the precision of the result (and the precision at which the computation is carried out) is the highest precision among the operands. Let us see a few examples.\n",
    "\n",
    "Basic arithmetic operations:"
   ]
  },
  {
   "cell_type": "code",
   "execution_count": 2,
   "id": "db97e134-962b-413e-a6cb-c5400fe18fed",
   "metadata": {},
   "outputs": [
    {
     "data": {
      "text/plain": [
       "2.099999999999999999999999999999999999995"
      ]
     },
     "execution_count": 2,
     "metadata": {},
     "output_type": "execute_result"
    }
   ],
   "source": [
    "real{1, 8} + real{\"1.1\", 128} // Addition computed at 128 bits of precision"
   ]
  },
  {
   "cell_type": "code",
   "execution_count": 3,
   "id": "ee20fc33-6f39-4458-82a9-7124a9857358",
   "metadata": {},
   "outputs": [
    {
     "data": {
      "text/plain": [
       "2.200000000000000000000000000000000000002350988701644575015937473074444491355637"
      ]
     },
     "execution_count": 3,
     "metadata": {},
     "output_type": "execute_result"
    }
   ],
   "source": [
    "real{2, 256} * real{\"1.1\", 128} // Multiplication computed at 256 bits of precision"
   ]
  },
  {
   "cell_type": "code",
   "execution_count": 4,
   "id": "cdc4d93d-e8d2-447f-a29b-f53b6e18fb71",
   "metadata": {},
   "outputs": [
    {
     "data": {
      "text/plain": [
       "6.66666666666666666666666666671e-1"
      ]
     },
     "execution_count": 4,
     "metadata": {},
     "output_type": "execute_result"
    }
   ],
   "source": [
    "real{2, 48} / real{3, 96} // Division computed at 96 bits of precision"
   ]
  },
  {
   "cell_type": "markdown",
   "id": "c1cb954c-b5a8-4101-8383-b8558a9a2f3d",
   "metadata": {},
   "source": [
    "Elementary functions:"
   ]
  },
  {
   "cell_type": "code",
   "execution_count": 5,
   "id": "4a216df5-b7dc-4f37-ad29-d8df73cba2d8",
   "metadata": {},
   "outputs": [
    {
     "data": {
      "text/plain": [
       "7.853981633974483096156608458198757210488e-1"
      ]
     },
     "execution_count": 5,
     "metadata": {},
     "output_type": "execute_result"
    }
   ],
   "source": [
    "atan2(real{2, 10}, real{2, 128}) // atan2 computed at 128 bits of precision"
   ]
  },
  {
   "cell_type": "code",
   "execution_count": 6,
   "id": "26c81b5a-335e-4599-8944-ea93a12ac9b8",
   "metadata": {},
   "outputs": [
    {
     "data": {
      "text/plain": [
       "1.2100000000000000000000009"
      ]
     },
     "execution_count": 6,
     "metadata": {},
     "output_type": "execute_result"
    }
   ],
   "source": [
    "pow(real{\"1.1\", 80}, real{2, 10}) // Exponentiation computed at 80 bits of precision"
   ]
  },
  {
   "cell_type": "markdown",
   "id": "d24c07ad-8696-4d61-8faf-a645cb23fc11",
   "metadata": {},
   "source": [
    "Special functions:"
   ]
  },
  {
   "cell_type": "code",
   "execution_count": 7,
   "id": "6ff19cbc-9df3-4ca0-80b5-8ee610342ad3",
   "metadata": {},
   "outputs": [
    {
     "data": {
      "text/plain": [
       "5.75799436528113362161e-1"
      ]
     },
     "execution_count": 7,
     "metadata": {},
     "output_type": "execute_result"
    }
   ],
   "source": [
    "polylog(real{\"2.1\", 64}, real{\".5\", 10}) // Polylogarithm of real order computed at 64 bits of precision"
   ]
  },
  {
   "cell_type": "code",
   "execution_count": 8,
   "id": "aec19239-1550-4d46-8b37-5efaca87c871",
   "metadata": {},
   "outputs": [
    {
     "data": {
      "text/plain": [
       "6.7379469990854670966360484231473e-3"
      ]
     },
     "execution_count": 8,
     "metadata": {},
     "output_type": "execute_result"
    }
   ],
   "source": [
    "gamma_inc(real{1, 6}, real{5, 100}) // Incomplete gamma function computed at 100 bits of precision"
   ]
  },
  {
   "cell_type": "markdown",
   "id": "ea5198de-4128-46e1-ad69-c73d60242726",
   "metadata": {},
   "source": [
    "The precision propagation principle extends to operations mixing ``real`` and non-``real`` types, where the \"precision\" of non-real types is automatically deduced in the same way explained in the [real basics tutorial](<./real_basics.ipynb>):"
   ]
  },
  {
   "cell_type": "code",
   "execution_count": 9,
   "id": "f94768a9-c4ff-4f75-904c-f4e11ead29b3",
   "metadata": {},
   "outputs": [
    {
     "data": {
      "text/plain": [
       "2.1000000000000001"
      ]
     },
     "execution_count": 9,
     "metadata": {},
     "output_type": "execute_result"
    }
   ],
   "source": [
    "real{1, 8} + 1.1 // Addition computed in double precision"
   ]
  },
  {
   "cell_type": "code",
   "execution_count": 10,
   "id": "9d4db009-a881-4088-8d4f-6b322bd90575",
   "metadata": {},
   "outputs": [
    {
     "data": {
      "text/plain": [
       "9.8279372323e-1"
      ]
     },
     "execution_count": 10,
     "metadata": {},
     "output_type": "execute_result"
    }
   ],
   "source": [
    "atan2(std::int32_t(3), real{2, 12}) // atan2 computed at 32 bits of precision"
   ]
  },
  {
   "cell_type": "code",
   "execution_count": 11,
   "id": "b4ed1203-49c1-43b3-b7ee-d925b54098c3",
   "metadata": {},
   "outputs": [
    {
     "data": {
      "text/plain": [
       "4.999718179448405289101801526740579524015e-13"
      ]
     },
     "execution_count": 11,
     "metadata": {},
     "output_type": "execute_result"
    }
   ],
   "source": [
    "jx(real{12, 128}, 1.f) // Bessel function of the first kind computed at 128 bits of precision"
   ]
  }
 ],
 "metadata": {
  "kernelspec": {
   "display_name": "C++17",
   "language": "C++17",
   "name": "xcpp17"
  },
  "language_info": {
   "codemirror_mode": "text/x-c++src",
   "file_extension": ".cpp",
   "mimetype": "text/x-c++src",
   "name": "c++",
   "version": "17"
  }
 },
 "nbformat": 4,
 "nbformat_minor": 5
}
