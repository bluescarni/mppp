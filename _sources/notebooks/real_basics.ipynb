{
 "cells": [
  {
   "cell_type": "markdown",
   "id": "81d43c2f-882a-4b53-b83a-cbdc611fa688",
   "metadata": {},
   "source": [
    "# Real basics\n",
    "## Preliminaries\n",
    "\n",
    "Let us load the mp++ runtime, include a few headers and add a couple of ``using`` directives to reduce typing:"
   ]
  },
  {
   "cell_type": "code",
   "execution_count": 1,
   "id": "14b15a9b-5be3-4566-b1d7-4fd76d7ac12f",
   "metadata": {},
   "outputs": [],
   "source": [
    "#pragma cling add_include_path(\"$CONDA_PREFIX/include\")\n",
    "#pragma cling add_library_path(\"$CONDA_PREFIX/lib\")\n",
    "#pragma cling load(\"mp++\")\n",
    "\n",
    "#include <mp++/real.hpp>\n",
    "#include <mp++/integer.hpp>\n",
    "#include <mp++/rational.hpp>\n",
    "\n",
    "using namespace mppp::literals;\n",
    "using real = mppp::real;\n",
    "using real_kind = mppp::real_kind;"
   ]
  },
  {
   "cell_type": "markdown",
   "id": "c3b2c35c-bdeb-4f7c-bcd8-6b9387adb840",
   "metadata": {},
   "source": [
    "Let us also include a few bits from the standard library:"
   ]
  },
  {
   "cell_type": "code",
   "execution_count": 2,
   "id": "effd0e39-30e2-402a-8f9e-876259f55bc5",
   "metadata": {},
   "outputs": [],
   "source": [
    "#include <complex>\n",
    "#include <initializer_list>\n",
    "#include <iomanip>\n",
    "#include <iostream>\n",
    "#include <stdexcept>\n",
    "#include <utility>\n",
    "#include <vector>"
   ]
  },
  {
   "cell_type": "markdown",
   "id": "d4dfd0c9-d3e9-40d7-b938-db2f03866a6f",
   "metadata": {},
   "source": [
    "## Construction\n",
    "\n",
    "``real`` is a floating-point class in which the number of significant digits (i.e., the precision) is a runtime property of the individual class instances, rather than a fixed compile-time property of the class. This means that each ``real`` object is constructed with its own precision value, measured in bits (i.e., base-2 digits). When working with ``real`` values it is thus very important to be aware of how to set and manipulate the precision and how the precision of a ``real`` propagates throughout mathematical computations.\n",
    "\n",
    "A default-constructed ``real`` is initialised to zero:"
   ]
  },
  {
   "cell_type": "code",
   "execution_count": 3,
   "id": "c08fdd75-9266-47be-b886-0d40f4d2f4ae",
   "metadata": {},
   "outputs": [
    {
     "name": "stdout",
     "output_type": "stream",
     "text": [
      "0\n"
     ]
    }
   ],
   "source": [
    "std::cout << real{} << '\\n';"
   ]
  },
  {
   "cell_type": "markdown",
   "id": "155507b0-3488-40eb-8875-49f3f63bcecd",
   "metadata": {},
   "source": [
    "The precision of a default-constructed ``real`` is set to the minimum allowed value:"
   ]
  },
  {
   "cell_type": "code",
   "execution_count": 4,
   "id": "7d260ab8-75a6-4e85-afff-a6dd88b45f6b",
   "metadata": {},
   "outputs": [
    {
     "name": "stdout",
     "output_type": "stream",
     "text": [
      "A default-constructed real has a precision of 2 bits\n"
     ]
    }
   ],
   "source": [
    "std::cout << \"A default-constructed real has a precision of \" << real{}.get_prec() << \" bits\\n\";"
   ]
  },
  {
   "cell_type": "markdown",
   "id": "36db0fe0-a824-4f13-a501-73cee5be1108",
   "metadata": {},
   "source": [
    "Construction from fundamental C++ types sets a precision sufficient to represent exactly any value of that type:"
   ]
  },
  {
   "cell_type": "code",
   "execution_count": 5,
   "id": "d17ed269-f883-43a3-ba05-fac358588070",
   "metadata": {},
   "outputs": [
    {
     "name": "stdout",
     "output_type": "stream",
     "text": [
      "Precision when constructing from an int  : 32\n",
      "Precision when constructing from a long  : 64\n",
      "Precision when constructing from a float : 24\n",
      "Precision when constructing from a double: 53\n"
     ]
    }
   ],
   "source": [
    "std::cout << \"Precision when constructing from an int  : \" << real{42}.get_prec() << '\\n';\n",
    "std::cout << \"Precision when constructing from a long  : \" << real{42l}.get_prec() << '\\n';\n",
    "std::cout << \"Precision when constructing from a float : \" << real{42.f}.get_prec() << '\\n';\n",
    "std::cout << \"Precision when constructing from a double: \" << real{42.}.get_prec() << '\\n';"
   ]
  },
  {
   "cell_type": "markdown",
   "id": "eac70fd0-51d5-4456-8ab8-e7d31a9a9291",
   "metadata": {},
   "source": [
    "This ensures that construction from a fundamental C++ type preserves exactly the input value.\n",
    "\n",
    "Similarly, when constructing from an ``integer`` the precision is set to the bit width of the input value:"
   ]
  },
  {
   "cell_type": "code",
   "execution_count": 6,
   "id": "e7d9d13c-f6c3-4797-9412-4e43489eca0e",
   "metadata": {},
   "outputs": [
    {
     "name": "stdout",
     "output_type": "stream",
     "text": [
      "Precision when constructing from 42_z1         :    64\n",
      "Precision when constructing from 42_z1 * 2**256:   320\n"
     ]
    }
   ],
   "source": [
    "std::cout << \"Precision when constructing from 42_z1         : \"\n",
    "          << std::setw(5) << real{42_z1}.get_prec() << '\\n';\n",
    "std::cout << \"Precision when constructing from 42_z1 * 2**256: \"\n",
    "          << std::setw(5) << real{42_z1 << 256}.get_prec() << '\\n';"
   ]
  },
  {
   "cell_type": "markdown",
   "id": "620487e1-f472-4a4a-a1a1-d997464848c3",
   "metadata": {},
   "source": [
    "When constructing from a ``rational`` the precision is set to the total bit width of numerator and denominator:"
   ]
  },
  {
   "cell_type": "code",
   "execution_count": 7,
   "id": "53eb8777-a750-4b4f-a9ca-632e67007013",
   "metadata": {},
   "outputs": [
    {
     "name": "stdout",
     "output_type": "stream",
     "text": [
      "Precision when constructing from 4/3_q1: 128\n"
     ]
    }
   ],
   "source": [
    "std::cout << \"Precision when constructing from 4/3_q1: \" << real{4/3_q1}.get_prec() << '\\n';"
   ]
  },
  {
   "cell_type": "markdown",
   "id": "a42c5fac-8b10-40f0-a200-f705057ff5fe",
   "metadata": {},
   "source": [
    "Note that when constructing from a ``rational``, the input value is preserved exactly only if the denominator is a power of 2:"
   ]
  },
  {
   "cell_type": "code",
   "execution_count": 8,
   "id": "7b9b8096-0815-43f4-8c4b-6a978bef007a",
   "metadata": {},
   "outputs": [
    {
     "name": "stdout",
     "output_type": "stream",
     "text": [
      "4/3_q1  = 1.333333333333333333333333333333333333335\n",
      "5/16_q1 = 3.125000000000000000000000000000000000000e-1\n"
     ]
    }
   ],
   "source": [
    "std::cout << \"4/3_q1  = \" << real{4/3_q1}.to_string() << '\\n';\n",
    "std::cout << \"5/16_q1 = \" << real{5/16_q1}.to_string() << '\\n';"
   ]
  },
  {
   "cell_type": "markdown",
   "id": "6d247e89-b787-42d6-871a-95615629eac0",
   "metadata": {},
   "source": [
    "Automatic precision deduction can be overridden by explicitly specifying the desired precision upon construction:"
   ]
  },
  {
   "cell_type": "code",
   "execution_count": 9,
   "id": "8830e227-3b18-4b24-a1f8-79469740398e",
   "metadata": {},
   "outputs": [
    {
     "name": "stdout",
     "output_type": "stream",
     "text": [
      "The 10-bit approximation of 1.3 is: 1.3008\n",
      "The 16-bit approximation of 4/3 is: 1.33334\n",
      "The 3-bit approximation of 123 is : 1.3e+2\n"
     ]
    }
   ],
   "source": [
    "std::cout << \"The 10-bit approximation of 1.3 is: \" << real{1.3, 10}.to_string() << '\\n';\n",
    "std::cout << \"The 16-bit approximation of 4/3 is: \" << real{4/3_q1, 16}.to_string() << '\\n';\n",
    "std::cout << \"The 3-bit approximation of 123 is : \" << real{123, 3}.to_string() << '\\n';"
   ]
  },
  {
   "cell_type": "markdown",
   "id": "192a25f5-9bf3-4a09-9788-3d166b01ae3d",
   "metadata": {},
   "source": [
    "Like every mp++ class, ``real`` can be constructed from string-like objects. Construction from string always requires an explicit precision value:"
   ]
  },
  {
   "cell_type": "code",
   "execution_count": 10,
   "id": "538644df-6b2d-4612-aaf5-9380670a8efd",
   "metadata": {},
   "outputs": [
    {
     "name": "stdout",
     "output_type": "stream",
     "text": [
      "The 53-bit approximation of 1.1 is      : 1.1000000000000001\n",
      "The 113-bit approximation of 1.1 is     : 1.10000000000000000000000000000000008\n",
      "The 256-bit approximation of 1.1 is     : 1.100000000000000000000000000000000000000000000000000000000000000000000000000003\n",
      "The 256-bit approximation of infinity is: inf\n"
     ]
    }
   ],
   "source": [
    "std::cout << \"The 53-bit approximation of 1.1 is      : \"\n",
    "          << real{\"1.1\", 53}.to_string() << '\\n';\n",
    "std::cout << \"The 113-bit approximation of 1.1 is     : \"\n",
    "          << real{\"1.1\", 113}.to_string() << '\\n';\n",
    "std::cout << \"The 256-bit approximation of 1.1 is     : \"\n",
    "          << real{\"1.1\", 256}.to_string() << '\\n';\n",
    "std::cout << \"The 256-bit approximation of infinity is: \"\n",
    "          << real{\"inf\", 256}.to_string() << '\\n';"
   ]
  },
  {
   "cell_type": "markdown",
   "id": "0dcfd1ee-793e-4e86-a285-1047348f15f3",
   "metadata": {},
   "source": [
    "Construction from string representations in other bases is supported too:"
   ]
  },
  {
   "cell_type": "code",
   "execution_count": 11,
   "id": "292623cc-4ae7-462d-b341-f08b28121653",
   "metadata": {},
   "outputs": [
    {
     "name": "stdout",
     "output_type": "stream",
     "text": [
      "In base 4 1.1 is, to a precision of 53 bits : 1.2500000000000000\n",
      "In base 17 1.1 is, to a precision of 53 bits: 1.0588235294117647\n",
      "In base 59 1.1 is, to a precision of 53 bits: 1.0169491525423728\n"
     ]
    }
   ],
   "source": [
    "std::cout << \"In base 4 1.1 is, to a precision of 53 bits : \"\n",
    "          << real{\"1.1\", 4, 53}.to_string() << '\\n';\n",
    "std::cout << \"In base 17 1.1 is, to a precision of 53 bits: \"\n",
    "          << real{\"1.1\", 17, 53}.to_string() << '\\n';\n",
    "std::cout << \"In base 59 1.1 is, to a precision of 53 bits: \"\n",
    "          << real{\"1.1\", 59, 53}.to_string() << '\\n';"
   ]
  },
  {
   "cell_type": "markdown",
   "id": "7b62fbec-d6b8-4057-8d13-8d019338e449",
   "metadata": {},
   "source": [
    "The copy and move constructors of ``real`` can be called with a new precision as optional argument. If the new precision is smaller than the original one, a rounding may occur:"
   ]
  },
  {
   "cell_type": "code",
   "execution_count": 12,
   "id": "fea9c3b8-1446-4d63-8d77-7fd7692fc28d",
   "metadata": {},
   "outputs": [
    {
     "name": "stdout",
     "output_type": "stream",
     "text": [
      "The 23-bit approximation of 1.1 is: 1.0999999\n",
      "Extending the 10-bit approximation of 1.1 to 20 bits yields: 1.0996094\n"
     ]
    }
   ],
   "source": [
    "std::cout << \"The 23-bit approximation of 1.1 is: \"\n",
    "          << real{real{1.1}, 23}.to_string() << '\\n';\n",
    "std::cout << \"Extending the 10-bit approximation of 1.1 to 20 bits yields: \"\n",
    "          << real{real{1.1, 10}, 20}.to_string() << '\\n';"
   ]
  },
  {
   "cell_type": "markdown",
   "id": "68863eaf-0a3e-47dc-a106-f29e2cb570d2",
   "metadata": {},
   "source": [
    "Move construction will leave a ``real`` object in an invalid state. After move-construction, the only valid operations on a ``real`` are:\n",
    "\n",
    "* destruction,\n",
    "* the invocation of the ``is_valid()`` member function,\n",
    "* copy/move assignment.\n",
    "\n",
    "A moved-from ``real`` can be revived through re-assignment:"
   ]
  },
  {
   "cell_type": "code",
   "execution_count": 13,
   "id": "94cb8cfd-44d3-4355-8159-ef57e16c121e",
   "metadata": {},
   "outputs": [
    {
     "name": "stdout",
     "output_type": "stream",
     "text": [
      "After move, r1 is invalid\n",
      "After re-assignment, r1 is valid\n"
     ]
    }
   ],
   "source": [
    "{\n",
    "    real r1 = 42;\n",
    "    \n",
    "    // Move-construct r2 via r1.\n",
    "    real r2{std::move(r1)};\n",
    "    \n",
    "    std::cout << \"After move, r1 is \" << (r1.is_valid() ? \"valid\" : \"invalid\") << '\\n';\n",
    "    \n",
    "    // Revive r1 via assignment.\n",
    "    r1 = r2;\n",
    "    \n",
    "    std::cout << \"After re-assignment, r1 is \" << (r1.is_valid() ? \"valid\" : \"invalid\") << '\\n';\n",
    "}"
   ]
  },
  {
   "cell_type": "markdown",
   "id": "046d4ee4-dec5-4d98-afa3-3892df2089e3",
   "metadata": {},
   "source": [
    "The ``real`` constructors from real-valued types are implicit:"
   ]
  },
  {
   "cell_type": "code",
   "execution_count": 14,
   "id": "63cd7c65-8332-4bda-b382-0f3e929e3bb0",
   "metadata": {},
   "outputs": [],
   "source": [
    "{\n",
    "    real r0 = 5;\n",
    "    real r1 = 6.f;\n",
    "    real r2 = 1.23l;\n",
    "    \n",
    "    std::vector<real> v = {1, 2, 3};\n",
    "}"
   ]
  },
  {
   "cell_type": "markdown",
   "id": "148b8b8f-5b77-46a0-bfde-3b375bcfe0eb",
   "metadata": {},
   "source": [
    "The constructors from complex-valued types however are explicit:"
   ]
  },
  {
   "cell_type": "code",
   "execution_count": 15,
   "id": "2ee41ec7-c098-40fc-9ea9-1f3c3dd260cb",
   "metadata": {},
   "outputs": [
    {
     "name": "stderr",
     "output_type": "stream",
     "text": [
      "Construction from complex values with nonzero imaginary part is not possible:\n",
      "Cannot construct a real from a complex C++ value with a non-zero imaginary part of 1.000000\n"
     ]
    }
   ],
   "source": [
    "{\n",
    "    // real r0 = std::complex<double>{10, 0}; <-- Won't compile.\n",
    "    \n",
    "    // This works.\n",
    "    real r0{std::complex<double>{10, 0}};\n",
    "    \n",
    "    try {\n",
    "        real r1{std::complex<double>{10, 1}};\n",
    "    } catch (const std::domain_error &de) {\n",
    "        std::cerr << \"Construction from complex values with nonzero imaginary part is not possible:\\n\"\n",
    "                  << de.what() << '\\n';\n",
    "    }\n",
    "}"
   ]
  },
  {
   "cell_type": "markdown",
   "id": "7133f416-557a-4e85-85ff-48b2f3b2a7c3",
   "metadata": {},
   "source": [
    "``real`` also features a couple of specialised constructors, such as a constructor from a power of 2:"
   ]
  },
  {
   "cell_type": "code",
   "execution_count": 16,
   "id": "7245f63a-735c-467a-850c-cee69934cc5d",
   "metadata": {},
   "outputs": [
    {
     "name": "stdout",
     "output_type": "stream",
     "text": [
      "2**123 with a precision of 100 bits is: 2.1267647932558653966460912964486e+37\n"
     ]
    }
   ],
   "source": [
    "std::cout << \"2**123 with a precision of 100 bits is: \" << real{2l, 123, 100}.to_string() << '\\n';"
   ]
  },
  {
   "cell_type": "markdown",
   "id": "ac848f23-9a64-4012-9610-8f51a6cd2291",
   "metadata": {},
   "source": [
    "And a constructor from the special values $\\pm 0$, $\\pm \\infty$ and NaN:"
   ]
  },
  {
   "cell_type": "code",
   "execution_count": 17,
   "id": "1c7651d7-a97b-4129-b9de-f05244277757",
   "metadata": {},
   "outputs": [
    {
     "name": "stdout",
     "output_type": "stream",
     "text": [
      "Constructing a negative zero (53 bits)    : -0.0000000000000000\n",
      "Constructing a positive infinity (53 bits): inf\n",
      "Constructing a NaN (53 bits)              : nan\n"
     ]
    }
   ],
   "source": [
    "std::cout << \"Constructing a negative zero (53 bits)    : \"\n",
    "          << real{real_kind::zero, -1, 53}.to_string() << '\\n';\n",
    "std::cout << \"Constructing a positive infinity (53 bits): \"\n",
    "          << real{real_kind::inf, 53}.to_string() << '\\n';\n",
    "std::cout << \"Constructing a NaN (53 bits)              : \"\n",
    "          << real{real_kind::nan, 53}.to_string() << '\\n';"
   ]
  },
  {
   "cell_type": "markdown",
   "id": "40f29323-537c-41af-af19-cc85e913973a",
   "metadata": {},
   "source": [
    "## Getting and setting the precision\n",
    "\n",
    "The precision of a ``real`` is not fixed after construction, and it can be altered via the ``set_prec()`` and ``prec_round()`` member functions (or their free-function counterparts).\n",
    "\n",
    "``set_prec()`` is destructive - in addition to changing the precision of a ``real``, it will also reset its value to NaN:"
   ]
  },
  {
   "cell_type": "code",
   "execution_count": 18,
   "id": "90701796-02f8-4716-9f86-92f7c5d2a99c",
   "metadata": {},
   "outputs": [
    {
     "name": "stdout",
     "output_type": "stream",
     "text": [
      "The initial precision of r0 is 32, the initial value is 123\n",
      "The new precision of r0 is 64, the new value is nan\n"
     ]
    }
   ],
   "source": [
    "{\n",
    "    real r0 = 123;\n",
    "    \n",
    "    std::cout << \"The initial precision of r0 is \" << r0.get_prec()\n",
    "              << \", the initial value is \" << r0 << '\\n';\n",
    "\n",
    "    // Destructively change the precision.\n",
    "    r0.set_prec(64);\n",
    "\n",
    "    std::cout << \"The new precision of r0 is \" << r0.get_prec()\n",
    "              << \", the new value is \" << r0 << '\\n';\n",
    "}"
   ]
  },
  {
   "cell_type": "markdown",
   "id": "bc24adcd-e3b6-4920-9882-b480273f08fd",
   "metadata": {},
   "source": [
    "In contrast, ``prec_round()`` will either preserve exactly the original value (if the new precision is higher than the old one) or it will perform a rounding operation (if the new precision is lower than the old one):"
   ]
  },
  {
   "cell_type": "code",
   "execution_count": 19,
   "id": "370c9679-4976-41c9-9db6-c8f3de1371d2",
   "metadata": {},
   "outputs": [
    {
     "name": "stdout",
     "output_type": "stream",
     "text": [
      "The initial precision of r0 is 32, the initial value is 123\n",
      "The new precision of r0 is 256, the new value is 123\n",
      "The new precision of r0 is 4, the new value is 120\n"
     ]
    }
   ],
   "source": [
    "{\n",
    "    real r0 = 123;\n",
    "    \n",
    "    std::cout << \"The initial precision of r0 is \" << r0.get_prec()\n",
    "              << \", the initial value is \" << r0 << '\\n';\n",
    "\n",
    "    // Change the precision preserving the original value.\n",
    "    r0.prec_round(256);\n",
    "\n",
    "    std::cout << \"The new precision of r0 is \" << r0.get_prec()\n",
    "              << \", the new value is \" << r0 << '\\n';\n",
    "\n",
    "    // Lower the precision.\n",
    "    r0.prec_round(4);\n",
    "\n",
    "    std::cout << \"The new precision of r0 is \" << r0.get_prec()\n",
    "              << \", the new value is \" << r0 << '\\n';\n",
    "}"
   ]
  },
  {
   "cell_type": "markdown",
   "id": "de4fbc26-f1d4-4043-aa5f-7f42ac491134",
   "metadata": {},
   "source": [
    "## Assignment\n",
    "\n",
    "The assignment operators behave exactly like the corresponding constructors - after assignment, the precision of the ``real`` object will match the deduced precision of the assignment argument:"
   ]
  },
  {
   "cell_type": "code",
   "execution_count": 20,
   "id": "2bc044e6-e2e7-46c5-a2e7-692a33be63ab",
   "metadata": {},
   "outputs": [
    {
     "name": "stdout",
     "output_type": "stream",
     "text": [
      "The initial precision of r0 is: 2\n",
      "After assignment from an int, the precision of r0 is  : 32\n",
      "After assignment from a double, the precision of r0 is: 53\n"
     ]
    }
   ],
   "source": [
    "{\n",
    "    real r0;\n",
    "    \n",
    "    std::cout << \"The initial precision of r0 is: \" << r0.get_prec() << '\\n';\n",
    "    \n",
    "    // Assign an int.\n",
    "    r0 = 42;\n",
    "    \n",
    "    std::cout << \"After assignment from an int, the precision of r0 is  : \"\n",
    "              << r0.get_prec() << '\\n';\n",
    "    \n",
    "    // Assign a double.\n",
    "    r0 = 1.2345;\n",
    "    \n",
    "    std::cout << \"After assignment from a double, the precision of r0 is: \"\n",
    "              << r0.get_prec() << '\\n';\n",
    "}"
   ]
  },
  {
   "cell_type": "markdown",
   "id": "887bca2a-4864-4854-87e4-33dab8d4bec7",
   "metadata": {},
   "source": [
    "In order to override the automatic deduction behaviour, the ``set()`` family of member functions (and their free-function counterparts) can be used:"
   ]
  },
  {
   "cell_type": "code",
   "execution_count": 21,
   "id": "d0c7e505-0b7f-4f1e-a9ec-b6147627a674",
   "metadata": {},
   "outputs": [
    {
     "name": "stdout",
     "output_type": "stream",
     "text": [
      "r0 has been created with a precision of 12\n",
      "r0 is now 4.2000e+1, the precision is still 12\n",
      "r0 is now 1.1001, the precision is still 12\n"
     ]
    }
   ],
   "source": [
    "{\n",
    "    real r0{real_kind::zero, 12};\n",
    "    \n",
    "    std::cout << \"r0 has been created with a precision of \" << r0.get_prec() << '\\n';\n",
    " \n",
    "    // Set to an int.\n",
    "    r0.set(42);\n",
    "    \n",
    "    std::cout << \"r0 is now \" << r0.to_string() << \", the precision is still \" << r0.get_prec() << '\\n';\n",
    "\n",
    "    // Set to a double.\n",
    "    r0.set(1.1);\n",
    "    \n",
    "    std::cout << \"r0 is now \" << r0.to_string() << \", the precision is still \" << r0.get_prec() << '\\n';\n",
    "}"
   ]
  },
  {
   "cell_type": "markdown",
   "id": "f5735881-bc63-4e1a-b4e1-7cb192c528b3",
   "metadata": {},
   "source": [
    "The ``set()`` functions also support setting from string-like entities:"
   ]
  },
  {
   "cell_type": "code",
   "execution_count": 22,
   "id": "eef40ddf-a747-4b72-9ad5-b9d7488444f4",
   "metadata": {},
   "outputs": [
    {
     "name": "stdout",
     "output_type": "stream",
     "text": [
      "r0 has been created with a precision of 12\n",
      "r0 is now 1.2998, the precision is still 12\n"
     ]
    }
   ],
   "source": [
    "{\n",
    "    real r0{real_kind::zero, 12};\n",
    "    \n",
    "    std::cout << \"r0 has been created with a precision of \" << r0.get_prec() << '\\n';\n",
    " \n",
    "    // Set to a string.\n",
    "    r0.set(\"1.3\");\n",
    "    \n",
    "    std::cout << \"r0 is now \" << r0.to_string() << \", the precision is still \" << r0.get_prec() << '\\n';\n",
    "}"
   ]
  },
  {
   "cell_type": "markdown",
   "id": "c5ba4e74-cf4a-41bc-b319-6db54a497210",
   "metadata": {},
   "source": [
    "Specialised setters are also available:"
   ]
  },
  {
   "cell_type": "code",
   "execution_count": 23,
   "id": "2808a461-f03a-4216-81a0-9238c4a2f2d1",
   "metadata": {},
   "outputs": [
    {
     "name": "stdout",
     "output_type": "stream",
     "text": [
      "r0 has been created with a precision of 12\n",
      "r0 has been set to nan with a precision of 12\n",
      "r0 has been set to -inf with a precision of 12\n",
      "r0 has been set to 1.23427e-37 with a precision of 12\n"
     ]
    }
   ],
   "source": [
    "{\n",
    "    real r0{real_kind::zero, 12};\n",
    "    \n",
    "    std::cout << \"r0 has been created with a precision of \" << r0.get_prec() << '\\n';\n",
    "    \n",
    "    // Set to nan, inf.\n",
    "    r0.set_nan();\n",
    "    std::cout << \"r0 has been set to \" << r0 << \" with a precision of \" << r0.get_prec() << '\\n';\n",
    "    r0.set_inf(-1);\n",
    "    std::cout << \"r0 has been set to \" << r0 << \" with a precision of \" << r0.get_prec() << '\\n';\n",
    "    \n",
    "    // Set to 42*2**-128.\n",
    "    set_ui_2exp(r0, 42u, -128);\n",
    "    std::cout << \"r0 has been set to \" << r0 << \" with a precision of \" << r0.get_prec() << '\\n';\n",
    "}"
   ]
  },
  {
   "cell_type": "markdown",
   "id": "a46497a0-c193-4082-accc-d8eb388f5869",
   "metadata": {},
   "source": [
    "## Conversion\n",
    "\n",
    "``real`` can be converted to both fundamental C++ types and other mp++ classes:"
   ]
  },
  {
   "cell_type": "code",
   "execution_count": 24,
   "id": "3ab27bd8-5d3a-46f3-9058-76a69560bd45",
   "metadata": {},
   "outputs": [
    {
     "name": "stdout",
     "output_type": "stream",
     "text": [
      "1.1 converted to int is        : 1\n",
      "-2.1 converted to integer<1> is: -2\n",
      "\n",
      "The 32-bit approximation of 1.1 is exactly: 2362232013/2147483648\n",
      "\n",
      "Extending the 12-bit approximation of 1.1 to 'double' yields: 1.1001\n"
     ]
    }
   ],
   "source": [
    "{\n",
    "    // Conversion to integral types truncates.\n",
    "    std::cout << \"1.1 converted to int is        : \" << static_cast<int>(real{\"1.1\", 32}) << '\\n';\n",
    "    std::cout << \"-2.1 converted to integer<1> is: \" << static_cast<mppp::integer<1>>(real{\"-2.1\", 32}) << \"\\n\\n\";\n",
    "    \n",
    "    // Conversion to rational is exact.\n",
    "    std::cout << \"The 32-bit approximation of 1.1 is exactly: \" << static_cast<mppp::rational<1>>(real{\"1.1\", 32}) << \"\\n\\n\";\n",
    "    \n",
    "    std::cout << \"Extending the 12-bit approximation of 1.1 to 'double' yields: \" << static_cast<double>(real{\"1.1\", 12}) << '\\n';\n",
    "}"
   ]
  },
  {
   "cell_type": "markdown",
   "id": "89bccd32-a41a-4385-9779-058c72509701",
   "metadata": {},
   "source": [
    "Note that, as usual, the conversion operator of ``real`` is ``explicit``.\n",
    "\n",
    "The conversion can fail in some cases:"
   ]
  },
  {
   "cell_type": "code",
   "execution_count": 25,
   "id": "29b7a2b4-1e64-436b-80b0-698e83001bf6",
   "metadata": {},
   "outputs": [
    {
     "name": "stderr",
     "output_type": "stream",
     "text": [
      "Cannot convert a non-finite real to a C++ signed integral type\n"
     ]
    }
   ],
   "source": [
    "try {\n",
    "    static_cast<int>(real{\"inf\", 32});\n",
    "} catch (const std::domain_error &de) {\n",
    "    std::cerr << de.what() << '\\n';\n",
    "}"
   ]
  },
  {
   "cell_type": "code",
   "execution_count": 26,
   "id": "107708e5-8f7e-42fd-ad59-0deb5ba5d0d0",
   "metadata": {},
   "outputs": [
    {
     "name": "stderr",
     "output_type": "stream",
     "text": [
      "Conversion of the real 2.1267647932558653966460912964486e+37 to the type 'int' results in overflow\n"
     ]
    }
   ],
   "source": [
    "try {\n",
    "    static_cast<int>(real{2l, 123, 100});\n",
    "} catch (const std::overflow_error &oe) {\n",
    "    std::cerr << oe.what() << '\\n';\n",
    "}"
   ]
  },
  {
   "cell_type": "markdown",
   "id": "098d22f2-5574-4f62-a787-98c7b5f26adf",
   "metadata": {},
   "source": [
    "If exceptions are to be avoided, the non-throwing ``get()`` family of functions can be used instead of the conversion operator.\n",
    "\n",
    "Like the other mp++ classes, ``real`` is contextually-convertible to ``bool``. Note that ``NaN`` converts to ``true``:"
   ]
  },
  {
   "cell_type": "code",
   "execution_count": 27,
   "id": "b16a7d3c-08bb-4ceb-ae9b-a8c70d9afdcb",
   "metadata": {},
   "outputs": [
    {
     "name": "stdout",
     "output_type": "stream",
     "text": [
      "123 is true\n",
      "0 is false\n",
      "NaN is true\n"
     ]
    }
   ],
   "source": [
    "if (real{123}) {\n",
    "    std::cout << \"123 is true\\n\";\n",
    "}\n",
    "\n",
    "if (!real{0}) {\n",
    "    std::cout << \"0 is false\\n\";\n",
    "}\n",
    "\n",
    "std::cout << \"NaN is \" << (real{\"nan\", 32} ? \"true\" : \"false\") << '\\n';"
   ]
  },
  {
   "cell_type": "markdown",
   "id": "baa08d9a-e44f-4a82-8c4e-e3fdfa0c78d4",
   "metadata": {},
   "source": [
    "## User-defined literals\n",
    "\n",
    "The ``real`` class provides a few user-defined literals. The literals, as usual, are defined in the ``mppp::literals`` inline namespace, and they support decimal and hexadecimal representations for a few predefined precision values:"
   ]
  },
  {
   "cell_type": "code",
   "execution_count": 28,
   "id": "01a0ac82-3ed2-4dd9-aa17-ec9e6af0ce78",
   "metadata": {},
   "outputs": [
    {
     "name": "stdout",
     "output_type": "stream",
     "text": [
      "The 128-bit approximation of '123.456' is  : 1.234559999999999999999999999999999999999e+2\n",
      "The 256-bit approximation of '42' is       : 4.200000000000000000000000000000000000000000000000000000000000000000000000000000e+1\n",
      "The 512-bit approximation of '0x1.12p-1' is: 5.35156250000000000000000000000000000000000000000000000000000000000000000000000000000000000000000000000000000000000000000000000000000000000000000000000000000e-1\n"
     ]
    }
   ],
   "source": [
    "std::cout << \"The 128-bit approximation of '123.456' is  : \" << (123.456_r128).to_string() << '\\n';\n",
    "std::cout << \"The 256-bit approximation of '42' is       : \" << (4.2e1_r256).to_string() << '\\n';\n",
    "// Hexadecimal notation is supported too.\n",
    "std::cout << \"The 512-bit approximation of '0x1.12p-1' is: \" << (0x1.12p-1_r512).to_string() << '\\n';"
   ]
  }
 ],
 "metadata": {
  "kernelspec": {
   "display_name": "C++17",
   "language": "C++17",
   "name": "xcpp17"
  },
  "language_info": {
   "codemirror_mode": "text/x-c++src",
   "file_extension": ".cpp",
   "mimetype": "text/x-c++src",
   "name": "c++",
   "version": "17"
  }
 },
 "nbformat": 4,
 "nbformat_minor": 5
}
