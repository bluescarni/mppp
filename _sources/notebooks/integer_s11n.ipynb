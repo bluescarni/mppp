{
 "cells": [
  {
   "cell_type": "markdown",
   "id": "28b69b77-30a4-4a91-bed1-78ad8a19c2bf",
   "metadata": {},
   "source": [
    "# Integer serialisation\n",
    "## Preliminaries\n",
    "\n",
    "Let us load the mp++ runtime, include the headers and import the user-defined literals:"
   ]
  },
  {
   "cell_type": "code",
   "execution_count": 1,
   "id": "b9ba5705-016b-44c8-8af3-55b6efc01901",
   "metadata": {},
   "outputs": [],
   "source": [
    "#pragma cling add_include_path(\"$CONDA_PREFIX/include\")\n",
    "#pragma cling add_library_path(\"$CONDA_PREFIX/lib\")\n",
    "#pragma cling load(\"mp++\")\n",
    "\n",
    "#include <mp++/integer.hpp>\n",
    "\n",
    "using namespace mppp::literals;\n",
    "using int_t = mppp::integer<1>;"
   ]
  },
  {
   "cell_type": "markdown",
   "id": "a43a404e-1c0e-4110-99ee-bd1bc0b13a8b",
   "metadata": {},
   "source": [
    "Let us also includes a couple of bits from the standard library:"
   ]
  },
  {
   "cell_type": "code",
   "execution_count": 2,
   "id": "1a317d72-a95c-4eec-8aff-38abb740b9dd",
   "metadata": {},
   "outputs": [],
   "source": [
    "#include <iostream>\n",
    "#include <sstream>\n",
    "#include <vector>"
   ]
  },
  {
   "cell_type": "markdown",
   "id": "5bb6208c-b40f-4d56-ad8b-cb5b442d877c",
   "metadata": {},
   "source": [
    "And a few headers from the Boost.Serialization library:"
   ]
  },
  {
   "cell_type": "code",
   "execution_count": 3,
   "id": "42ae3409-ec21-4a98-add9-5fd70d0eca27",
   "metadata": {},
   "outputs": [],
   "source": [
    "#include <boost/archive/binary_iarchive.hpp>\n",
    "#include <boost/archive/binary_oarchive.hpp>\n",
    "#include <boost/archive/text_iarchive.hpp>\n",
    "#include <boost/archive/text_oarchive.hpp>"
   ]
  },
  {
   "cell_type": "markdown",
   "id": "a52e0c39-8749-4933-aea3-58dca0c3f73e",
   "metadata": {},
   "source": [
    "## Boost.Serialization support\n",
    "\n",
    "Like all the other mp++ classes, and if the ``MPPP_WITH_BOOST_S11N`` option was turned on at build time, ``integer`` supports serialisation via [Boost.Serialization](https://www.boost.org/doc/libs/release/libs/serialization/doc/index.html). Let us see a simple example using binary archives:"
   ]
  },
  {
   "cell_type": "code",
   "execution_count": 4,
   "id": "171bdc91-a0bb-4f38-aeed-2b5ab1e495ed",
   "metadata": {},
   "outputs": [
    {
     "name": "stdout",
     "output_type": "stream",
     "text": [
      "n initialised to -42\n",
      "After serialisation, n has been set to -1\n",
      "After deserialisation, n is again -42\n"
     ]
    }
   ],
   "source": [
    "{\n",
    "    auto n = -42_z1;\n",
    "    std::cout << \"n initialised to \" << n << '\\n';\n",
    "    \n",
    "    std::stringstream ss;\n",
    "    \n",
    "    // Serialise n into ss.\n",
    "    {\n",
    "        boost::archive::binary_oarchive oa(ss);\n",
    "        oa << n;\n",
    "    }\n",
    "    \n",
    "    n = -1;\n",
    "    std::cout << \"After serialisation, n has been set to \" << n << '\\n';\n",
    "    \n",
    "    // Deserialise the contents of ss into n.\n",
    "    {\n",
    "        boost::archive::binary_iarchive ia(ss);\n",
    "        ia >> n;\n",
    "    }\n",
    "    \n",
    "    std::cout << \"After deserialisation, n is again \" << n << '\\n';\n",
    "}"
   ]
  },
  {
   "cell_type": "markdown",
   "id": "ad7029e8-e710-4867-9712-63dca9f3d656",
   "metadata": {},
   "source": [
    "Here we (de)serialised into a stringstream using a binary format, but the code for (de)serialisation into a file (or any other input/output stream) would have been identical.\n",
    "\n",
    "Binary archives in Boost.Serialization are platform-dependent and thus non-portable. If portability across platforms is required, one can use text archives:"
   ]
  },
  {
   "cell_type": "code",
   "execution_count": 5,
   "id": "742c8668-ce55-461b-a058-22f7084e5c87",
   "metadata": {},
   "outputs": [
    {
     "name": "stdout",
     "output_type": "stream",
     "text": [
      "Contents of the text archive: 22 serialization::archive 19 0 0 3 -42\n",
      "\n"
     ]
    }
   ],
   "source": [
    "{\n",
    "    auto n = -42_z1;\n",
    "    \n",
    "    std::stringstream ss;\n",
    "    \n",
    "    {\n",
    "        boost::archive::text_oarchive oa(ss);\n",
    "        oa << n;\n",
    "    }\n",
    "    \n",
    "    n = -1;\n",
    "    \n",
    "    std::cout << \"Contents of the text archive: \" << ss.str() << \"\\n\";\n",
    "    \n",
    "    {\n",
    "        boost::archive::text_iarchive ia(ss);\n",
    "        ia >> n;\n",
    "    }\n",
    "}"
   ]
  },
  {
   "cell_type": "markdown",
   "id": "0a810316-da9c-481d-924d-50f31791148f",
   "metadata": {},
   "source": [
    "Please refer to the [Boost docs](https://www.boost.org/doc/libs/release/libs/serialization/doc/index.html) for more information on how to use Boost.Serialization.\n",
    "\n",
    "## Low-level serialisation primitives\n",
    "\n",
    "In addition to supporting serialisation via Boost.Serialization, the ``integer`` class also provides a low-level binary serialisation API which does not depend on Boost. Let us see a simple example:"
   ]
  },
  {
   "cell_type": "code",
   "execution_count": 6,
   "id": "b5113339-4ea7-4047-9cab-2246c39eddb8",
   "metadata": {},
   "outputs": [
    {
     "name": "stdout",
     "output_type": "stream",
     "text": [
      "a initialised to 42, b initialised to 0\n",
      "The serialisation of a required 12 bytes\n",
      "After deserialisation, b is 42\n"
     ]
    }
   ],
   "source": [
    "{\n",
    "    auto a = 42_z1, b = 0_z1;\n",
    "    \n",
    "    std::cout << \"a initialised to \" << a << \", b initialised to \" << b << '\\n';\n",
    "    \n",
    "    // An initially-empty vector buffer.\n",
    "    std::vector<char> buffer;\n",
    "\n",
    "    // Serialise a into the buffer.\n",
    "    a.binary_save(buffer);\n",
    "    \n",
    "    std::cout << \"The serialisation of a required \" << buffer.size() << \" bytes\\n\";\n",
    "    \n",
    "    // Deserialise the content of the buffer into b.\n",
    "    b.binary_load(buffer);\n",
    "    \n",
    "    std::cout << \"After deserialisation, b is \" << b << '\\n';\n",
    "}"
   ]
  },
  {
   "cell_type": "markdown",
   "id": "7736ecc3-b8dc-46e0-acb3-17d5b636fffe",
   "metadata": {},
   "source": [
    "The ``binary_save()/binary_load()`` member functions (and their free-function counterparts) save/load the contents of an integer object into/from a ``char`` memory buffer. In this specific case we used a ``std::vector``, but the API supports also ``std::array``, raw ``char`` pointers and standard iostreams. The [integer docs](https://bluescarni.github.io/mppp/integer.html#serialisation) explain in detail how the ``binary_save()/binary_load()`` overloads can be used.\n",
    "\n",
    "> **NOTE**: the current binary serialisation format is compiler, platform and architecture specific, it is not portable and it might be subject to changes in future versions of mp++. Users are thus advised not to use the binary serialisation format for long-term persistence or as a data exchange format: for such purposes, it is better to use the string representation of integer objects."
   ]
  }
 ],
 "metadata": {
  "kernelspec": {
   "display_name": "C++17",
   "language": "C++17",
   "name": "xcpp17"
  },
  "language_info": {
   "codemirror_mode": "text/x-c++src",
   "file_extension": ".cpp",
   "mimetype": "text/x-c++src",
   "name": "c++",
   "version": "17"
  }
 },
 "nbformat": 4,
 "nbformat_minor": 5
}
